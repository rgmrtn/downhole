{
 "cells": [
  {
   "cell_type": "code",
   "execution_count": null,
   "metadata": {},
   "outputs": [],
   "source": [
    "%load_ext autoreload\n",
    "%autoreload 2"
   ]
  },
  {
   "cell_type": "code",
   "execution_count": null,
   "metadata": {},
   "outputs": [],
   "source": [
    "from downhole.survey import Survey, DownholeSurvey\n",
    "\n",
    "from downhole.examples.ex_survey import *\n",
    "\n",
    "s = Survey()\n",
    "\n",
    "import pandas as pd"
   ]
  },
  {
   "cell_type": "code",
   "execution_count": null,
   "metadata": {},
   "outputs": [],
   "source": [
    "survey_df = pd.read_excel('.\\\\Test Spreadsheets\\\\Survey.xlsx', index_col=0)\n",
    "collar_df = pd.read_excel('.\\\\Test Spreadsheets\\\\Collar.xlsx', index_col=0)"
   ]
  },
  {
   "cell_type": "code",
   "execution_count": null,
   "metadata": {},
   "outputs": [],
   "source": [
    "holes = list(pd.unique(collar_df.index))\n",
    "for hole in holes:\n",
    "    try:\n",
    "        if len(survey_df.loc[[hole]]) == 1:\n",
    "            print(f\"No Downhole Survey {hole}, collar info used.\")\n",
    "            ds = DownholeSurvey(\n",
    "                [collar_df.at[hole, 'Azimuth_GridN'],collar_df.at[hole, 'Azimuth_GridN']],\n",
    "                [collar_df.at[hole, 'DIP'],collar_df.at[hole, 'DIP']],\n",
    "                [0,collar_df.at[hole, 'TotalDepth_m']],\n",
    "                collar_df.at[hole, 'UTM_N83_EASTING'],\n",
    "                collar_df.at[hole, 'UTM_N83_NORTHING'],\n",
    "                collar_df.at[hole, 'UTM_N83_ELEV_MSL'], hole\n",
    "            )\n",
    "        else:\n",
    "            azm_data = list(survey_df.loc[[hole]]['AzimGridN'])\n",
    "            dip_data = list(survey_df.loc[[hole]]['Final_Dip'])\n",
    "            depth_data = list(survey_df.loc[[hole]]['Depth_m'])\n",
    "            \n",
    "            if collar_df.at[hole, 'TotalDepth_m'] > (depth_data[-1] + 25):\n",
    "                difference = collar_df.at[hole, 'TotalDepth_m'] - depth_data[-1]\n",
    "                print(f\"Collar depth > survey depth by 25m for {hole}, interval added. {difference}\")\n",
    "                azm_data.insert(len(azm_data),azm_data[-1])\n",
    "                dip_data.insert(len(dip_data),dip_data[-1])\n",
    "                depth_data.insert(len(depth_data),collar_df.at[hole, 'TotalDepth_m'])\n",
    "            \n",
    "            \n",
    "            if min(survey_df.loc[[hole]]['Depth_m']) > 9:\n",
    "                print(min(survey_df.loc[[hole]]['Depth_m']),azm_data[0], dip_data[0])\n",
    "                print(collar_df.at[hole, 'Azimuth_GridN'], collar_df.at[hole, 'DIP'])\n",
    "                print(f\"No Depth=0.00 reading for {hole}, interval added.\")\n",
    "                azm_data.insert(0,azm_data[0])\n",
    "                dip_data.insert(0,dip_data[0])\n",
    "                depth_data.insert(0,0.00)\n",
    "            \n",
    "            ds = DownholeSurvey(\n",
    "                azm_data,\n",
    "                dip_data,\n",
    "                depth_data,\n",
    "                collar_df.at[hole, 'UTM_N83_EASTING'],\n",
    "                collar_df.at[hole, 'UTM_N83_NORTHING'],\n",
    "                collar_df.at[hole, 'UTM_N83_ELEV_MSL'], hole\n",
    "            )\n",
    "        \n",
    "\n",
    "    except KeyError:\n",
    "        print(f\"No Downhole Survey or record of {hole}, collar info used.\")\n",
    "        ds = DownholeSurvey(\n",
    "            [collar_df.at[hole, 'Azimuth_GridN'],collar_df.at[hole, 'Azimuth_GridN']],\n",
    "            [collar_df.at[hole, 'DIP'],collar_df.at[hole, 'DIP']],\n",
    "            [0,collar_df.at[hole, 'TotalDepth_m']],\n",
    "            collar_df.at[hole, 'UTM_N83_EASTING'],\n",
    "            collar_df.at[hole, 'UTM_N83_NORTHING'],\n",
    "            collar_df.at[hole, 'UTM_N83_ELEV_MSL'], hole\n",
    "        )\n",
    "    \n",
    "    s.add_downhole_survey(ds)\n"
   ]
  },
  {
   "cell_type": "code",
   "execution_count": null,
   "metadata": {},
   "outputs": [],
   "source": [
    "s.export_shapefile()"
   ]
  },
  {
   "cell_type": "code",
   "execution_count": null,
   "metadata": {},
   "outputs": [],
   "source": [
    "import matplotlib.pyplot as plt\n",
    "from mpl_toolkits.mplot3d import Axes3D\n",
    "from math import sqrt"
   ]
  },
  {
   "cell_type": "code",
   "execution_count": null,
   "metadata": {},
   "outputs": [],
   "source": [
    "intervals = s.downhole_surveys[25].min_curv.survey_intervals\n",
    "intervals"
   ]
  },
  {
   "cell_type": "code",
   "execution_count": null,
   "metadata": {},
   "outputs": [],
   "source": [
    "s.downhole_surveys[25].min_curv.sample_interval(5,25)"
   ]
  },
  {
   "cell_type": "code",
   "execution_count": null,
   "metadata": {},
   "outputs": [],
   "source": [
    "s.downhole_surveys[25].min_curv.sample_point(2)\n",
    "xs = [i[1][0] for i in intervals]\n",
    "ys = [i[1][1] for i in intervals]\n",
    "zs = [i[1][2] for i in intervals]\n",
    "\n",
    "xs1 = [i[1][0] for i in s.downhole_surveys[25].min_curv.sample_interval(100,156)]\n",
    "ys1 = [i[1][1] for i in s.downhole_surveys[25].min_curv.sample_interval(100,156)]\n",
    "zs1 = [i[1][2] for i in s.downhole_surveys[25].min_curv.sample_interval(100,156)]\n",
    "\n",
    "\n",
    "#x = [s.downhole_surveys[25].min_curv.sample_point(i)[1][0] for i in range(0,200,10)]\n",
    "#y = [s.downhole_surveys[25].min_curv.sample_point(i)[1][1] for i in range(0,200,10)]\n",
    "#z = [s.downhole_surveys[25].min_curv.sample_point(i)[1][2] for i in range(0,200,10)]\n",
    "\n",
    "fig = plt.figure()\n",
    "ax = fig.add_subplot(projection='3d')\n",
    "ax.plot(xs,ys,zs, linewidth=1)\n",
    "ax.plot(xs1,ys1,zs1, linewidth=4)\n",
    "\n",
    "#ax.scatter(x,y,z)\n"
   ]
  },
  {
   "cell_type": "code",
   "execution_count": null,
   "metadata": {},
   "outputs": [],
   "source": [
    "s.downhole_surveys[15].min_curv.sample_point(223)"
   ]
  }
 ],
 "metadata": {
  "kernelspec": {
   "display_name": "Python 3",
   "language": "python",
   "name": "python3"
  },
  "language_info": {
   "codemirror_mode": {
    "name": "ipython",
    "version": 3
   },
   "file_extension": ".py",
   "mimetype": "text/x-python",
   "name": "python",
   "nbconvert_exporter": "python",
   "pygments_lexer": "ipython3",
   "version": "3.7.6"
  }
 },
 "nbformat": 4,
 "nbformat_minor": 4
}
