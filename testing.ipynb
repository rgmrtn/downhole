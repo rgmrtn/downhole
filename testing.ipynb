{
 "cells": [
  {
   "cell_type": "code",
   "execution_count": null,
   "metadata": {},
   "outputs": [],
   "source": [
    "from downhole.survey import Survey, DownholeSurvey"
   ]
  },
  {
   "cell_type": "code",
   "execution_count": null,
   "metadata": {},
   "outputs": [],
   "source": [
    "from downhole.examples.ex_survey import *"
   ]
  },
  {
   "cell_type": "code",
   "execution_count": null,
   "metadata": {},
   "outputs": [],
   "source": [
    "s = Survey()"
   ]
  },
  {
   "cell_type": "code",
   "execution_count": null,
   "metadata": {},
   "outputs": [],
   "source": [
    "import pandas as pd"
   ]
  },
  {
   "cell_type": "code",
   "execution_count": null,
   "metadata": {},
   "outputs": [],
   "source": [
    "survey_df = pd.read_excel('Survey.xlsx', index_col=0)\n",
    "collar_df = pd.read_excel('Collar.xlsx', index_col=0)"
   ]
  },
  {
   "cell_type": "code",
   "execution_count": null,
   "metadata": {},
   "outputs": [],
   "source": [
    "holes = list(pd.unique(df.index))\n",
    "for hole in holes:\n",
    "    ds = DownholeSurvey(list(df.loc[[hole]]['AzimGridN']),\n",
    "                        list(df.loc[[hole]]['Final_Dip']),\n",
    "                        list(df.loc[[hole]]['Depth_m']), x, y, z, hole)\n",
    "    s.add_downhole_survey(ds)\n",
    "\n"
   ]
  },
  {
   "cell_type": "code",
   "execution_count": null,
   "metadata": {},
   "outputs": [],
   "source": [
    "s.export_shapefile()"
   ]
  },
  {
   "cell_type": "code",
   "execution_count": null,
   "metadata": {},
   "outputs": [],
   "source": [
    "s.downhole_surveys[1].min_curv()"
   ]
  },
  {
   "cell_type": "code",
   "execution_count": null,
   "metadata": {},
   "outputs": [],
   "source": [
    "collar_df.loc[['KDI-12-001']]\n",
    "holes = list(pd.unique(collar_df.index))\n",
    "for hole in holes:\n",
    "    try:\n",
    "        if len(survey_df.loc[[hole]]) == 1:\n",
    "            print(f\"No Downhole Survey {hole}\")\n",
    "    except KeyError:\n",
    "        print(f\"Missing {hole}\")"
   ]
  }
 ],
 "metadata": {
  "kernelspec": {
   "display_name": "Python 3",
   "language": "python",
   "name": "python3"
  },
  "language_info": {
   "codemirror_mode": {
    "name": "ipython",
    "version": 3
   },
   "file_extension": ".py",
   "mimetype": "text/x-python",
   "name": "python",
   "nbconvert_exporter": "python",
   "pygments_lexer": "ipython3",
   "version": "3.7.6"
  }
 },
 "nbformat": 4,
 "nbformat_minor": 4
}
