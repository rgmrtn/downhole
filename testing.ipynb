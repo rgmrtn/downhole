{
 "cells": [
  {
   "cell_type": "code",
   "execution_count": 7,
   "metadata": {},
   "outputs": [],
   "source": [
    "from downhole.survey import Survey, DownholeSurvey\n",
    "\n",
    "from downhole.examples.ex_survey import *\n",
    "\n",
    "s = Survey()\n",
    "\n",
    "import pandas as pd\n",
    "\n",
    "survey_df = pd.read_excel('Survey.xlsx', index_col=0)\n",
    "collar_df = pd.read_excel('Collar.xlsx', index_col=0)\n",
    "\n",
    "holes = list(pd.unique(collar_df.index))\n",
    "for hole in holes:\n",
    "    try:\n",
    "        if len(survey_df.loc[[hole]]) == 1:\n",
    "            print(f\"No Downhole Survey {hole}\")\n",
    "            ds = DownholeSurvey(\n",
    "                [collar_df.at[hole, 'Azimuth_GridN'],collar_df.at[hole, 'Azimuth_GridN']],\n",
    "                [collar_df.at[hole, 'DIP'],collar_df.at[hole, 'DIP']],\n",
    "                [0,collar_df.at[hole, 'TotalDepth_m']],\n",
    "                collar_df.at[hole, 'UTM_N83_EASTING'],\n",
    "                collar_df.at[hole, 'UTM_N83_NORTHING'],\n",
    "                collar_df.at[hole, 'UTM_N83_ELEV_MSL'], hole\n",
    "            )\n",
    "        else:\n",
    "            ds = DownholeSurvey(\n",
    "                list(survey_df.loc[[hole]]['AzimGridN']),\n",
    "                list(survey_df.loc[[hole]]['Final_Dip']),\n",
    "                list(survey_df.loc[[hole]]['Depth_m']),\n",
    "                collar_df.at[hole, 'UTM_N83_EASTING'],\n",
    "                collar_df.at[hole, 'UTM_N83_NORTHING'],\n",
    "                collar_df.at[hole, 'UTM_N83_ELEV_MSL'], hole\n",
    "            )\n",
    "        \n",
    "\n",
    "    except KeyError:\n",
    "        print(f\"Missing {hole}\")\n",
    "        ds = DownholeSurvey(\n",
    "            [collar_df.at[hole, 'Azimuth_GridN'],collar_df.at[hole, 'Azimuth_GridN']],\n",
    "            [collar_df.at[hole, 'DIP'],collar_df.at[hole, 'DIP']],\n",
    "            [0,collar_df.at[hole, 'TotalDepth_m']],\n",
    "            collar_df.at[hole, 'UTM_N83_EASTING'],\n",
    "            collar_df.at[hole, 'UTM_N83_NORTHING'],\n",
    "            collar_df.at[hole, 'UTM_N83_ELEV_MSL'], hole\n",
    "        )\n",
    "    \n",
    "    s.add_downhole_survey(ds)\n",
    "    \n",
    "\n",
    "\n",
    "s.export_shapefile()"
   ]
  },
  {
   "cell_type": "code",
   "execution_count": 38,
   "metadata": {},
   "outputs": [
    {
     "data": {
      "text/plain": [
       "[('test', 'hello'), ('b', 5)]"
      ]
     },
     "execution_count": 38,
     "metadata": {},
     "output_type": "execute_result"
    }
   ],
   "source": [
    "def fn(**kwargs):\n",
    "    return list(kwargs.items())\n",
    "        \n",
    "fn(test='hello', b=5)"
   ]
  }
 ],
 "metadata": {
  "kernelspec": {
   "display_name": "Python 3",
   "language": "python",
   "name": "python3"
  },
  "language_info": {
   "codemirror_mode": {
    "name": "ipython",
    "version": 3
   },
   "file_extension": ".py",
   "mimetype": "text/x-python",
   "name": "python",
   "nbconvert_exporter": "python",
   "pygments_lexer": "ipython3",
   "version": "3.7.6"
  }
 },
 "nbformat": 4,
 "nbformat_minor": 4
}
