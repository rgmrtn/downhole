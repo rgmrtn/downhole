{
 "cells": [
  {
   "cell_type": "code",
   "execution_count": 1,
   "metadata": {},
   "outputs": [],
   "source": [
    "%load_ext autoreload\n",
    "%autoreload 2"
   ]
  },
  {
   "cell_type": "code",
   "execution_count": 2,
   "metadata": {},
   "outputs": [],
   "source": [
    "from downhole.survey import Survey, DownholeSurvey\n",
    "\n",
    "from downhole.examples.ex_survey import *\n",
    "\n",
    "s = Survey()\n",
    "\n",
    "import pandas as pd"
   ]
  },
  {
   "cell_type": "code",
   "execution_count": 3,
   "metadata": {},
   "outputs": [],
   "source": [
    "survey_df = pd.read_excel('.\\\\Test Spreadsheets\\\\Survey.xlsx', index_col=0)\n",
    "collar_df = pd.read_excel('.\\\\Test Spreadsheets\\\\Collar.xlsx', index_col=0)"
   ]
  },
  {
   "cell_type": "code",
   "execution_count": 4,
   "metadata": {},
   "outputs": [
    {
     "name": "stdout",
     "output_type": "stream",
     "text": [
      "No Downhole Survey KDI-12-001, collar info used.\n",
      "No Downhole Survey KDI-12-002, collar info used.\n",
      "11.0 86.2 -51.07\n",
      "86.3 -50.0\n",
      "No Depth=0.00 reading for KDI-13-018, interval added.\n",
      "No Downhole Survey KDI-13-019, collar info used.\n",
      "No Downhole Survey KDI-13-023, collar info used.\n",
      "No Downhole Survey KDI-13-028, collar info used.\n",
      "No Downhole Survey KDI-13-031, collar info used.\n",
      "Collar depth > survey depth by 25m for KDI-14-065, interval added. 42.72000000000003\n",
      "Collar depth > survey depth by 25m for KDI-15-001, interval added. 277.62\n",
      "No Downhole Survey KDI-15-006b, collar info used.\n",
      "No Downhole Survey KDI-15-010a, collar info used.\n",
      "No Downhole Survey KDI-15-025b, collar info used.\n",
      "No Downhole Survey KDI-15-035a, collar info used.\n",
      "No Downhole Survey KDI-15-040, collar info used.\n",
      "Collar depth > survey depth by 25m for KDI-15-048b, interval added. 27.0\n",
      "Collar depth > survey depth by 25m for KDI-15-051a, interval added. 46.0\n",
      "Collar depth > survey depth by 25m for KDI-16-052, interval added. 26.5\n",
      "Collar depth > survey depth by 25m for KDI-17-006, interval added. 102.0\n",
      "10.0 235.57 -53.7\n",
      "235.57 -53.7\n",
      "No Depth=0.00 reading for KDI-17-006, interval added.\n",
      "12.0 50.39 -48.61\n",
      "50.39 -48.61\n",
      "No Depth=0.00 reading for KDI-18-002, interval added.\n",
      "No Downhole Survey or record of KDI-18-009, collar info used.\n",
      "No Downhole Survey or record of KDI-18-020a, collar info used.\n",
      "No Downhole Survey or record of KDI-18-023a, collar info used.\n",
      "No Downhole Survey or record of KDI-19-001a, collar info used.\n",
      "Collar depth > survey depth by 25m for KDI-19-002, interval added. 105.16000000000001\n",
      "No Downhole Survey or record of KDI-19-004, collar info used.\n",
      "Collar depth > survey depth by 25m for KDI-20-001, interval added. 44.69999999999999\n",
      "11.0 35.04333 -51.98\n",
      "38.17 -52.8\n",
      "No Depth=0.00 reading for KDI-20-001, interval added.\n"
     ]
    }
   ],
   "source": [
    "holes = list(pd.unique(collar_df.index))\n",
    "for hole in holes:\n",
    "    try:\n",
    "        if len(survey_df.loc[[hole]]) == 1:\n",
    "            print(f\"No Downhole Survey {hole}, collar info used.\")\n",
    "            ds = DownholeSurvey(\n",
    "                [collar_df.at[hole, 'Azimuth_GridN'],collar_df.at[hole, 'Azimuth_GridN']],\n",
    "                [collar_df.at[hole, 'DIP'],collar_df.at[hole, 'DIP']],\n",
    "                [0,collar_df.at[hole, 'TotalDepth_m']],\n",
    "                collar_df.at[hole, 'UTM_N83_EASTING'],\n",
    "                collar_df.at[hole, 'UTM_N83_NORTHING'],\n",
    "                collar_df.at[hole, 'UTM_N83_ELEV_MSL'], hole\n",
    "            )\n",
    "        else:\n",
    "            azm_data = list(survey_df.loc[[hole]]['AzimGridN'])\n",
    "            dip_data = list(survey_df.loc[[hole]]['Final_Dip'])\n",
    "            depth_data = list(survey_df.loc[[hole]]['Depth_m'])\n",
    "            \n",
    "            if collar_df.at[hole, 'TotalDepth_m'] > (depth_data[-1] + 25):\n",
    "                difference = collar_df.at[hole, 'TotalDepth_m'] - depth_data[-1]\n",
    "                print(f\"Collar depth > survey depth by 25m for {hole}, interval added. {difference}\")\n",
    "                azm_data.insert(len(azm_data),azm_data[-1])\n",
    "                dip_data.insert(len(dip_data),dip_data[-1])\n",
    "                depth_data.insert(len(depth_data),collar_df.at[hole, 'TotalDepth_m'])\n",
    "            \n",
    "            \n",
    "            if min(survey_df.loc[[hole]]['Depth_m']) > 9:\n",
    "                print(min(survey_df.loc[[hole]]['Depth_m']),azm_data[0], dip_data[0])\n",
    "                print(collar_df.at[hole, 'Azimuth_GridN'], collar_df.at[hole, 'DIP'])\n",
    "                print(f\"No Depth=0.00 reading for {hole}, interval added.\")\n",
    "                azm_data.insert(0,azm_data[0])\n",
    "                dip_data.insert(0,dip_data[0])\n",
    "                depth_data.insert(0,0.00)\n",
    "            \n",
    "            ds = DownholeSurvey(\n",
    "                azm_data,\n",
    "                dip_data,\n",
    "                depth_data,\n",
    "                collar_df.at[hole, 'UTM_N83_EASTING'],\n",
    "                collar_df.at[hole, 'UTM_N83_NORTHING'],\n",
    "                collar_df.at[hole, 'UTM_N83_ELEV_MSL'], hole\n",
    "            )\n",
    "        \n",
    "\n",
    "    except KeyError:\n",
    "        print(f\"No Downhole Survey or record of {hole}, collar info used.\")\n",
    "        ds = DownholeSurvey(\n",
    "            [collar_df.at[hole, 'Azimuth_GridN'],collar_df.at[hole, 'Azimuth_GridN']],\n",
    "            [collar_df.at[hole, 'DIP'],collar_df.at[hole, 'DIP']],\n",
    "            [0,collar_df.at[hole, 'TotalDepth_m']],\n",
    "            collar_df.at[hole, 'UTM_N83_EASTING'],\n",
    "            collar_df.at[hole, 'UTM_N83_NORTHING'],\n",
    "            collar_df.at[hole, 'UTM_N83_ELEV_MSL'], hole\n",
    "        )\n",
    "    \n",
    "    s.add_downhole_survey(ds)\n"
   ]
  },
  {
   "cell_type": "code",
   "execution_count": null,
   "metadata": {},
   "outputs": [],
   "source": [
    "s.export_shapefile()"
   ]
  },
  {
   "cell_type": "code",
   "execution_count": 7,
   "metadata": {},
   "outputs": [
    {
     "ename": "TypeError",
     "evalue": "'<' not supported between instances of 'list' and 'int'",
     "output_type": "error",
     "traceback": [
      "\u001b[1;31m---------------------------------------------------------------------------\u001b[0m",
      "\u001b[1;31mTypeError\u001b[0m                                 Traceback (most recent call last)",
      "\u001b[1;32m<ipython-input-7-76960ff6f944>\u001b[0m in \u001b[0;36m<module>\u001b[1;34m\u001b[0m\n\u001b[1;32m----> 1\u001b[1;33m \u001b[0ms\u001b[0m\u001b[1;33m.\u001b[0m\u001b[0mdownhole_surveys\u001b[0m\u001b[1;33m[\u001b[0m\u001b[1;36m15\u001b[0m\u001b[1;33m]\u001b[0m\u001b[1;33m.\u001b[0m\u001b[0mmin_curv\u001b[0m\u001b[1;33m.\u001b[0m\u001b[0msample_point\u001b[0m\u001b[1;33m(\u001b[0m\u001b[1;36m55\u001b[0m\u001b[1;33m)\u001b[0m\u001b[1;33m\u001b[0m\u001b[1;33m\u001b[0m\u001b[0m\n\u001b[0m",
      "\u001b[1;32m~\\python_apps\\downhole\\downhole\\survey.py\u001b[0m in \u001b[0;36msample_point\u001b[1;34m(self, dist)\u001b[0m\n\u001b[0;32m     72\u001b[0m                     \u001b[1;32mreturn\u001b[0m \u001b[0mself\u001b[0m\u001b[1;33m.\u001b[0m\u001b[0msurvey_intervals\u001b[0m\u001b[1;33m[\u001b[0m\u001b[0mi\u001b[0m\u001b[1;33m]\u001b[0m\u001b[1;33m[\u001b[0m\u001b[1;36m1\u001b[0m\u001b[1;33m]\u001b[0m\u001b[1;33m[\u001b[0m\u001b[1;33m:\u001b[0m\u001b[1;36m3\u001b[0m\u001b[1;33m]\u001b[0m\u001b[1;33m\u001b[0m\u001b[1;33m\u001b[0m\u001b[0m\n\u001b[0;32m     73\u001b[0m                 \u001b[1;32melif\u001b[0m \u001b[1;32mnot\u001b[0m \u001b[0mi\u001b[0m \u001b[1;33m==\u001b[0m \u001b[0mself\u001b[0m\u001b[1;33m.\u001b[0m\u001b[0mrecords\u001b[0m \u001b[1;33m-\u001b[0m \u001b[1;36m1\u001b[0m\u001b[1;33m:\u001b[0m\u001b[1;33m\u001b[0m\u001b[1;33m\u001b[0m\u001b[0m\n\u001b[1;32m---> 74\u001b[1;33m                     \u001b[1;32mif\u001b[0m \u001b[0mself\u001b[0m\u001b[1;33m.\u001b[0m\u001b[0msurvey_intervals\u001b[0m\u001b[1;33m[\u001b[0m\u001b[0mi\u001b[0m\u001b[1;33m]\u001b[0m \u001b[1;33m<\u001b[0m \u001b[0mdist\u001b[0m \u001b[1;33m<\u001b[0m \u001b[0mself\u001b[0m\u001b[1;33m.\u001b[0m\u001b[0msurvey_intervals\u001b[0m\u001b[1;33m[\u001b[0m\u001b[0mi\u001b[0m\u001b[1;33m+\u001b[0m\u001b[1;36m1\u001b[0m\u001b[1;33m]\u001b[0m\u001b[1;33m:\u001b[0m\u001b[1;33m\u001b[0m\u001b[1;33m\u001b[0m\u001b[0m\n\u001b[0m\u001b[0;32m     75\u001b[0m                         \u001b[0mx1\u001b[0m \u001b[1;33m=\u001b[0m \u001b[0mself\u001b[0m\u001b[1;33m.\u001b[0m\u001b[0msurvey_intervals\u001b[0m\u001b[1;33m[\u001b[0m\u001b[0mi\u001b[0m\u001b[1;33m]\u001b[0m\u001b[1;33m[\u001b[0m\u001b[1;36m1\u001b[0m\u001b[1;33m]\u001b[0m\u001b[1;33m[\u001b[0m\u001b[1;36m0\u001b[0m\u001b[1;33m]\u001b[0m\u001b[1;33m\u001b[0m\u001b[1;33m\u001b[0m\u001b[0m\n\u001b[0;32m     76\u001b[0m                         \u001b[0mx2\u001b[0m \u001b[1;33m=\u001b[0m \u001b[0mself\u001b[0m\u001b[1;33m.\u001b[0m\u001b[0msurvey_intervals\u001b[0m\u001b[1;33m[\u001b[0m\u001b[0mi\u001b[0m\u001b[1;33m+\u001b[0m\u001b[1;36m1\u001b[0m\u001b[1;33m]\u001b[0m\u001b[1;33m[\u001b[0m\u001b[1;36m1\u001b[0m\u001b[1;33m]\u001b[0m\u001b[1;33m[\u001b[0m\u001b[1;36m0\u001b[0m\u001b[1;33m]\u001b[0m\u001b[1;33m\u001b[0m\u001b[1;33m\u001b[0m\u001b[0m\n",
      "\u001b[1;31mTypeError\u001b[0m: '<' not supported between instances of 'list' and 'int'"
     ]
    }
   ],
   "source": [
    "s.downhole_surveys[15].min_curv.sample_point(55)"
   ]
  },
  {
   "cell_type": "code",
   "execution_count": null,
   "metadata": {},
   "outputs": [],
   "source": [
    "s.downhole_surveys[15].min_curv.sample_point(55)"
   ]
  }
 ],
 "metadata": {
  "kernelspec": {
   "display_name": "Python 3",
   "language": "python",
   "name": "python3"
  },
  "language_info": {
   "codemirror_mode": {
    "name": "ipython",
    "version": 3
   },
   "file_extension": ".py",
   "mimetype": "text/x-python",
   "name": "python",
   "nbconvert_exporter": "python",
   "pygments_lexer": "ipython3",
   "version": "3.7.6"
  }
 },
 "nbformat": 4,
 "nbformat_minor": 4
}
